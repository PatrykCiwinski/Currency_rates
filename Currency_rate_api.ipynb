{
  "nbformat": 4,
  "nbformat_minor": 0,
  "metadata": {
    "colab": {
      "provenance": [],
      "authorship_tag": "ABX9TyNNAy0zBuSW/ORSQ4xf6DK9",
      "include_colab_link": true
    },
    "kernelspec": {
      "name": "python3",
      "display_name": "Python 3"
    },
    "language_info": {
      "name": "python"
    }
  },
  "cells": [
    {
      "cell_type": "markdown",
      "metadata": {
        "id": "view-in-github",
        "colab_type": "text"
      },
      "source": [
        "<a href=\"https://colab.research.google.com/github/PatrykCiwinski/Currency_rates/blob/main/Currency_rate_api.ipynb\" target=\"_parent\"><img src=\"https://colab.research.google.com/assets/colab-badge.svg\" alt=\"Open In Colab\"/></a>"
      ]
    },
    {
      "cell_type": "markdown",
      "source": [
        "This program is returning currency rates using Colab forms"
      ],
      "metadata": {
        "id": "ga6M16-qK59-"
      }
    },
    {
      "cell_type": "code",
      "execution_count": 3,
      "metadata": {
        "colab": {
          "base_uri": "https://localhost:8080/"
        },
        "id": "QexzvYeHK28h",
        "outputId": "2c1ddfaf-f5ca-45b8-a020-e3b2be5623df"
      },
      "outputs": [
        {
          "output_type": "stream",
          "name": "stdout",
          "text": [
            "You want to exchange 200 EUR to PLN, you will have 908.78 PLN, rate was 4.54 PLN/EUR on 2023-05-20\n"
          ]
        }
      ],
      "source": [
        "#@title Kurs walut  {\"run\": \"auto\"}\n",
        "\n",
        "from requests import get\n",
        "date = \"2023-05-20\" #@param {type:\"date\"}\n",
        "base = \"EUR\" #@param [\"USD\", \"EUR\", \"CHF\", \"PLN\", \"CZK\"]\n",
        "to=\"PLN\" #@param [\"USD\", \"EUR\", \"CHF\", \"PLN\", \"CZK\"]\n",
        "amount=200 #@param\n",
        "\n",
        "headers= {\"apikey\": \"y38VFkkPi97PbWefF6hNs0M8F7Ep1IuX\"}\n",
        "\n",
        "url = f'https://api.apilayer.com/exchangerates_data/convert?to={to}&from={base}&amount={amount}&date={date}'\n",
        "\n",
        "resp = get(url, headers=headers)\n",
        "data = resp.json()\n",
        "\n",
        "exchange_rate =f\"You want to exchange {amount} {base} to {to}, you will have {round(data['result'],2)} {to}, rate was {round(data['info']['rate'],2)} {to}/{base} on {date}\"\n",
        "\n",
        "print(exchange_rate)"
      ]
    },
    {
      "cell_type": "code",
      "source": [],
      "metadata": {
        "id": "GBxn-oTkLPyp"
      },
      "execution_count": null,
      "outputs": []
    }
  ]
}